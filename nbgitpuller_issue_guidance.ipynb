{
 "cells": [
  {
   "cell_type": "markdown",
   "metadata": {},
   "source": [
    "### list all files in the current directory"
   ]
  },
  {
   "cell_type": "code",
   "execution_count": 7,
   "metadata": {},
   "outputs": [
    {
     "name": "stdout",
     "output_type": "stream",
     "text": [
      "total 76\r\n",
      "drwxrwsr-x 11 root   users  4096 Apr 20 23:04  .\r\n",
      "drwxr-xr-x  1 root   root   4096 Nov  9  2019  ..\r\n",
      "-rw-rw----  1 jovyan users  1881 Apr 20 11:19  .bash_history\r\n",
      "drwxrwsr-x  5 jovyan users  4096 Apr  6 04:09  .cache\r\n",
      "drwxrwsr-x  3 jovyan users  4096 Apr  6 04:09  .config\r\n",
      "-rw-rw-r--  1 jovyan users  4506 Apr  1 04:36  Dockerfile\r\n",
      "-rw-rw-r--  1 jovyan users    50 Apr  1 04:45  .gitconfig\r\n",
      "drwxrwsr-x  2 jovyan users  4096 Apr 20 22:52  .ipynb_checkpoints\r\n",
      "drwxrwsr-x  5 jovyan users  4096 Mar 31 19:26  .ipython\r\n",
      "drwxrwsr-x  3 jovyan users  4096 Apr  1 22:01  .jupyter\r\n",
      "drwxrwsr-x  3 jovyan users  4096 Mar 31 19:26  .local\r\n",
      "drwxrws---  2 root   users 16384 Mar 31 19:25  lost+found\r\n",
      "drwxrwsr-x  3 jovyan users  4096 Apr  6 23:01  myfolder_134\r\n",
      "-rw-r--r--  1 jovyan users  3587 Apr 20 23:04 'nbgitpuller issue.ipynb'\r\n",
      "drwxr-sr-x  4 jovyan users  4096 Apr 20 22:21  pstat-134-spring-2021-old\r\n"
     ]
    }
   ],
   "source": [
    "!ls -la"
   ]
  },
  {
   "cell_type": "markdown",
   "metadata": {},
   "source": [
    "### When you click nbgitpuller and there is an error"
   ]
  },
  {
   "cell_type": "markdown",
   "metadata": {},
   "source": [
    "#### run [https://pstat134.lsit.ucsb.edu/]\n",
    "\n",
    "#### rename **pstat-134-spring-2021** to another new name, e.g., **pstat-134-spring-2021_old**:"
   ]
  },
  {
   "cell_type": "code",
   "execution_count": 5,
   "metadata": {},
   "outputs": [
    {
     "name": "stdout",
     "output_type": "stream",
     "text": [
      "mv: cannot stat 'pstat-134-spring-2021': No such file or directory\r\n"
     ]
    }
   ],
   "source": [
    "!mv pstat-134-spring-2021 pstat-134-spring-2021-old"
   ]
  },
  {
   "cell_type": "markdown",
   "metadata": {},
   "source": [
    "#### now click the nbgitpuller link again, you are able to see the most updated version pstat-134-spring-2021"
   ]
  },
  {
   "cell_type": "markdown",
   "metadata": {},
   "source": [
    "### if you want to remove the some_folder permanently"
   ]
  },
  {
   "cell_type": "code",
   "execution_count": 3,
   "metadata": {},
   "outputs": [
    {
     "name": "stdout",
     "output_type": "stream",
     "text": [
      "/bin/sh: 1: cd: can't cd to some_folder\n",
      "fatal: not a git repository (or any parent up to mount point /home)\n",
      "Stopping at filesystem boundary (GIT_DISCOVERY_ACROSS_FILESYSTEM not set).\n",
      "rm: cannot remove 'some_folder': No such file or directory\n"
     ]
    }
   ],
   "source": [
    "!cd some_folder\n",
    "!git rm -rf some_folder/.git\n",
    "!cd ..\n",
    "!rm -rf some_folder"
   ]
  },
  {
   "cell_type": "code",
   "execution_count": null,
   "metadata": {},
   "outputs": [],
   "source": []
  }
 ],
 "metadata": {
  "kernelspec": {
   "display_name": "Python 3",
   "language": "python",
   "name": "python3"
  },
  "language_info": {
   "codemirror_mode": {
    "name": "ipython",
    "version": 3
   },
   "file_extension": ".py",
   "mimetype": "text/x-python",
   "name": "python",
   "nbconvert_exporter": "python",
   "pygments_lexer": "ipython3",
   "version": "3.7.3"
  },
  "toc": {
   "base_numbering": 1,
   "nav_menu": {},
   "number_sections": true,
   "sideBar": true,
   "skip_h1_title": false,
   "title_cell": "Table of Contents",
   "title_sidebar": "Contents",
   "toc_cell": false,
   "toc_position": {},
   "toc_section_display": true,
   "toc_window_display": false
  }
 },
 "nbformat": 4,
 "nbformat_minor": 2
}
